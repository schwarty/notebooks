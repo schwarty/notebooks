{
 "metadata": {
  "name": "decoding report"
 },
 "nbformat": 3,
 "nbformat_minor": 0,
 "worksheets": [
  {
   "cells": [
    {
     "cell_type": "code",
     "collapsed": false,
     "input": "import json\n\nimport numpy as np\nimport pandas as pd\nimport pylab as pl\n\nfrom sklearn.metrics import precision_recall_fscore_support",
     "language": "python",
     "metadata": {},
     "outputs": [],
     "prompt_number": 85
    },
    {
     "cell_type": "code",
     "collapsed": false,
     "input": "with open('results.json') as f:\n    results = json.load(f)",
     "language": "python",
     "metadata": {},
     "outputs": [],
     "prompt_number": 51
    },
    {
     "cell_type": "code",
     "collapsed": false,
     "input": "samples_stats = {}\nsamples_stats['y_true'] = results['y_true_bin']\nsamples_stats['y_pred'] = results['y_pred_bin']\nsamples_stats['study_id'] = np.array(results['samples_infos'])[:, 0]\nsamples_stats['subject_id'] = np.array(results['samples_infos'])[:, 1]\nsamples_stats['scan_id'] = np.array(results['samples_infos'])[:, 2]\n\n#for i, label in enumerate(results['labels']):\n#    samples_stats[label] = results['labels'][i]\n\ndf = pd.DataFrame(samples_stats)",
     "language": "python",
     "metadata": {},
     "outputs": [],
     "prompt_number": 65
    },
    {
     "cell_type": "code",
     "collapsed": false,
     "input": "df.keys()",
     "language": "python",
     "metadata": {},
     "outputs": [
      {
       "output_type": "pyout",
       "prompt_number": 66,
       "text": "Index([u'scan_id', u'study_id', u'subject_id', u'y_pred', u'y_true'], dtype=object)"
      }
     ],
     "prompt_number": 66
    },
    {
     "cell_type": "code",
     "collapsed": false,
     "input": "y_true = np.vstack(df[df.study_id == 'HCP'].y_true)\ny_pred = np.vstack(df[df.study_id == 'HCP'].y_pred)\n\ny_true = np.vstack(df.y_true)\ny_pred = np.vstack(df.y_pred)\n\nprint dict(zip(range(len(results['labels'])), results['labels']))\nscores = {}\nscores['precision'], scores['recall'], scores['fscore'], scores['support'] = precision_recall_fscore_support(y_true, y_pred)\nscores = pd.DataFrame(scores)\n\nn_labels = len(results['labels'])\nbins = np.linspace(0, n_labels, n_labels)\nscores.precision.hist(bins=bins, alpha=0.5, label='precision')\nscores.recall.hist(bins=bins, alpha=0.5, label='recall')\nscores.fscore.hist(bins=bins, alpha=0.5, label='fscore')\npl.show()",
     "language": "python",
     "metadata": {},
     "outputs": [
      {
       "output_type": "stream",
       "stream": "stdout",
       "text": "{0: u'abstract_patterns', 1: u'attend', 2: u'auditory', 3: u'button_press', 4: u'count', 5: u'digits', 6: u'discriminate', 7: u'encode', 8: u'face', 9: u'fixation_point', 10: u'inhibit', 11: u'letters', 12: u'move', 13: u'none', 14: u'pseudowords', 15: u'read', 16: u'saccades', 17: u'scramble', 18: u'shapes', 19: u'sounds', 20: u'track', 21: u'visual', 22: u'words'}\n"
      }
     ],
     "prompt_number": 86
    }
   ],
   "metadata": {}
  }
 ]
}